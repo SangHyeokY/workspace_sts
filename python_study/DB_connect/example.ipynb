{
 "cells": [
  {
   "cell_type": "code",
   "execution_count": 33,
   "metadata": {},
   "outputs": [],
   "source": [
    "import pymysql\n",
    "import pandas as pd"
   ]
  },
  {
   "cell_type": "code",
   "execution_count": 34,
   "metadata": {},
   "outputs": [],
   "source": [
    "# DB 연결 함수\n",
    "def getConnection():\n",
    "    conn = pymysql.connect(\n",
    "        host='localhost'\n",
    "        , user='study_user'\n",
    "        , password='mariadb'\n",
    "        , db='study_db'\n",
    "        , charset='utf8'\n",
    "        )\n",
    "    return conn"
   ]
  },
  {
   "cell_type": "code",
   "execution_count": 35,
   "metadata": {},
   "outputs": [],
   "source": [
    "# 목록 조회 함수\n",
    "def selectList(sql, conn):\n",
    "    cursor = conn.cursor(pymysql.cursors.DictCursor)\n",
    "    cursor.execute(sql)\n",
    "    result = cursor.fetchall()\n",
    "    return result"
   ]
  },
  {
   "cell_type": "code",
   "execution_count": 37,
   "metadata": {},
   "outputs": [
    {
     "name": "stdout",
     "output_type": "stream",
     "text": [
      "[{'BOARD_NUM': 1, 'TITLE': '2', 'WRITER': '3', 'READ_CNT': 4}, {'BOARD_NUM': 2, 'TITLE': '배고프다', 'WRITER': 'ssun', 'READ_CNT': 82}]\n"
     ]
    }
   ],
   "source": [
    "def main():\n",
    "    conn = getConnection()\n",
    "    sql = 'SELECT * FROM PYTHON_BOARD'\n",
    "    result = selectList(sql, conn)\n",
    "    print(result)\n",
    "\n",
    "main()"
   ]
  },
  {
   "cell_type": "code",
   "execution_count": null,
   "metadata": {},
   "outputs": [],
   "source": []
  },
  {
   "cell_type": "code",
   "execution_count": 26,
   "metadata": {},
   "outputs": [],
   "source": [
    "# 단일 행 insert\n",
    "def insertOne(dicData , conn):\n",
    "    cursor = conn.cursor(pymysql.cursors.DictCursor)\n",
    "    \n",
    "    cursor.excute(sql)\n",
    "\n",
    "    sql = \"INSERT INTO PYTHON_BOARD VALUES ()\"\n",
    "    "
   ]
  },
  {
   "cell_type": "code",
   "execution_count": 28,
   "metadata": {},
   "outputs": [],
   "source": [
    "# 하나의 데이터 insert\n",
    "def insertOne(dicData, conn):\n",
    "    cursor = conn.cursor(pymysql.cursors.DicCursor)\n",
    "    sql = f\"INSERT INTO PYTHON_BOARD VALUES ({dicData['boardNum']}, ?, ?, ?)\"\n",
    "    cursor.execute(sql)"
   ]
  },
  {
   "cell_type": "code",
   "execution_count": null,
   "metadata": {},
   "outputs": [],
   "source": []
  },
  {
   "cell_type": "code",
   "execution_count": null,
   "metadata": {},
   "outputs": [],
   "source": []
  }
 ],
 "metadata": {
  "kernelspec": {
   "display_name": "Python 3",
   "language": "python",
   "name": "python3"
  },
  "language_info": {
   "codemirror_mode": {
    "name": "ipython",
    "version": 3
   },
   "file_extension": ".py",
   "mimetype": "text/x-python",
   "name": "python",
   "nbconvert_exporter": "python",
   "pygments_lexer": "ipython3",
   "version": "3.12.2"
  }
 },
 "nbformat": 4,
 "nbformat_minor": 2
}
