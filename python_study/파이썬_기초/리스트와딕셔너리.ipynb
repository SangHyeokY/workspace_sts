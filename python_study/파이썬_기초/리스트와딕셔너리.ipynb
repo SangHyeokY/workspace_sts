{
 "cells": [
  {
   "cell_type": "markdown",
   "metadata": {},
   "source": [
    "### 리스트(List)\n",
    "+ 리스트 변수 생성 시 list라는 이름의 변수 생성은 금지"
   ]
  },
  {
   "cell_type": "code",
   "execution_count": 44,
   "metadata": {},
   "outputs": [],
   "source": [
    "# 빈 리스트를 생성\n",
    "list1 = []\n",
    "\n",
    "# 초기값을 갖는 리스트 생성\n",
    "# 자바와 다르게 다른 자료형이 리스트의 요소로 들어올 수 있음.\n",
    "list2 = [1, 1.1, 'python']"
   ]
  },
  {
   "cell_type": "code",
   "execution_count": 50,
   "metadata": {},
   "outputs": [
    {
     "name": "stdout",
     "output_type": "stream",
     "text": [
      "[1, 1.1, 'python']\n",
      "1 1.1 python \n",
      "1.1\n"
     ]
    }
   ],
   "source": [
    "# 리스트의 값 읽기\n",
    "print(list2)\n",
    "\n",
    "# 반복문을 이용하여 리스트의 모든 데이터를 출력\n",
    "for e in list2 :\n",
    "    print(e, end=' ')\n",
    "\n",
    "# 각각의 요소를 출력\n",
    "print()\n",
    "print(list2[1])"
   ]
  },
  {
   "cell_type": "code",
   "execution_count": 51,
   "metadata": {},
   "outputs": [
    {
     "name": "stdout",
     "output_type": "stream",
     "text": [
      "[0, 1, 2]\n",
      "[0, 1, 2, 3, 4]\n",
      "[6, 7, 8, 9, 10]\n",
      "[0, 1, 2, 3, 4, 5, 6, 7, 8, 9, 10]\n",
      "[8, 9, 10]\n"
     ]
    }
   ],
   "source": [
    "# 슬라이싱\n",
    "list3 = [0, 1, 2, 3, 4, 5, 6, 7, 8, 9, 10]\n",
    "# [a, b]\n",
    "# a : 시작 인덱스\n",
    "# b : 마지막 인덱스 전까지\n",
    "print(list3[0:3])\n",
    "print(list3[:5])\n",
    "print(list3[6:])\n",
    "print(list3[:])\n",
    "print(list3[-3:])"
   ]
  },
  {
   "cell_type": "code",
   "execution_count": 85,
   "metadata": {},
   "outputs": [
    {
     "name": "stdout",
     "output_type": "stream",
     "text": [
      "ja\n",
      "jpg\n",
      "jpg\n",
      "jpg\n",
      "15\n",
      "3\n",
      "2\n",
      "4\n",
      "11\n",
      "5\n",
      "5\n",
      "9\n",
      "안녕하세요\n",
      "또 만나요\n",
      "만나서 반가웠어요\n"
     ]
    }
   ],
   "source": [
    "# 슬라이싱의 또 다른 활용\n",
    "test_str = 'java python c++'\n",
    "print(test_str[0:2])\n",
    "\n",
    "# 퀴즈 : 확장자만 보여주기\n",
    "str_arr = [\n",
    "    '안녕하세요.jpg',\n",
    "    '또 만나요.jpg',\n",
    "    '만나서 반가웠어요.jpg'\n",
    "]\n",
    "\n",
    "# 답\n",
    "for e in str_arr : \n",
    "    print(e[-3:])\n",
    "\n",
    "# 문자열의 길이\n",
    "print(len(test_str))\n",
    "print(len(str_arr))\n",
    "\n",
    "# 문자열에서 특정 문자열의 위치값 찾아내기\n",
    "str1 = 'python'\n",
    "print(str1.index('t'))\n",
    "str2 = 'java.python.c++'\n",
    "print(str2.index('.'))\n",
    "print(str2.rindex('.'))\n",
    "\n",
    "# str_arr에서 .jpg라는 문자열을 제외한 문자열만 추출하여 출력\n",
    "for e in str_arr :\n",
    "    print(e[:e.rindex('.')])\n"
   ]
  },
  {
   "cell_type": "code",
   "execution_count": 91,
   "metadata": {},
   "outputs": [
    {
     "name": "stdout",
     "output_type": "stream",
     "text": [
      "[1, 2.2, 10.5]\n",
      "[1, 1.5, 2.2, 10.5]\n"
     ]
    }
   ],
   "source": [
    "# 리스트에 데이터 추가하기\n",
    "list4 = []\n",
    "\n",
    "# append : 리스트의 가장 마지막에 데이터 추가\n",
    "list4.append(1)\n",
    "list4.append(2.2)\n",
    "list4.append(10.5)\n",
    "print(list4)\n",
    "\n",
    "# insert(위치, 값) : 리스트에서 원하는 위치에 데이터 추가\n",
    "list4.insert(1, 1.5)\n",
    "print(list4)"
   ]
  },
  {
   "cell_type": "code",
   "execution_count": 102,
   "metadata": {},
   "outputs": [
    {
     "name": "stdout",
     "output_type": "stream",
     "text": [
      "[2, 3, 4, 5, 6, 7, 8, 9]\n",
      "[]\n"
     ]
    }
   ],
   "source": [
    "# 리스트에서 데이터 삭제하기\n",
    "# del(리스트명[인덱스])\n",
    "# del(list4[2])\n",
    "# print(list4)\n",
    "\n",
    "# 앞의 1, 2, 3만 삭제하기\n",
    "list5 = [1, 2, 3, 4, 5, 6, 7, 8, 9]\n",
    "# del(list5[:3])\n",
    "# print(list5)\n",
    "\n",
    "# 리스트명.remove(삭제할 값)\n",
    "list5.remove(1)\n",
    "print(list5)\n",
    "\n",
    "# 리스트의 모든 내용 지우기\n",
    "# 1)\n",
    "list5.clear()\n",
    "print(list5)\n",
    "\n",
    "list5 = [1, 2, 3, 4, 5, 6, 7, 8, 9]\n",
    "\n",
    "# 2)\n",
    "del(list5[:])\n",
    "print(list5)\n"
   ]
  },
  {
   "cell_type": "markdown",
   "metadata": {},
   "source": [
    "### 딕셔너리(Dictionary)"
   ]
  },
  {
   "cell_type": "code",
   "execution_count": 103,
   "metadata": {},
   "outputs": [],
   "source": [
    "# 딕셔너리 생성\n",
    "dic1 = {}\n",
    "dic2 = {'이름' : '홍길동', '나이' : 20}"
   ]
  },
  {
   "cell_type": "code",
   "execution_count": 110,
   "metadata": {},
   "outputs": [
    {
     "name": "stdout",
     "output_type": "stream",
     "text": [
      "{'이름': '홍길동', '나이': 20}\n",
      "홍길동\n",
      "20\n",
      "key=이름, value=홍길동\n",
      "key=나이, value=20\n"
     ]
    }
   ],
   "source": [
    "# 딕셔너리 데이터 출력\n",
    "print(dic2)\n",
    "\n",
    "# 하나의 데이터만 출력\n",
    "print(dic2['이름'])\n",
    "print(dic2.get('나이'))\n",
    "\n",
    "# 반복문 이용하기\n",
    "for key in dic2 :\n",
    "    print(f'key={key}, value={dic2[key]}')"
   ]
  },
  {
   "cell_type": "code",
   "execution_count": 113,
   "metadata": {},
   "outputs": [
    {
     "name": "stdout",
     "output_type": "stream",
     "text": [
      "{'이름': '홍길동'}\n",
      "{'이름': '홍길동', '연락처': '010-5423-4325'}\n",
      "{'이름': '이순신', '연락처': '010-5423-4325'}\n"
     ]
    }
   ],
   "source": [
    "# 딕셔너리에 데이터 추가하기\n",
    "dic3 = {}\n",
    "\n",
    "# key가 이름이고 value는 '홍길동'인 데이터 추가\n",
    "dic3['이름'] = '홍길동'\n",
    "print(dic3)\n",
    "dic3['연락처'] = '010-5423-4325'\n",
    "print(dic3)\n",
    "\n",
    "# dic3 안에 키가 '이름'인 데이터의 값을 '이순신'으로 변경\n",
    "dic3['이름'] = '이순신'\n",
    "print(dic3)"
   ]
  },
  {
   "cell_type": "code",
   "execution_count": 114,
   "metadata": {},
   "outputs": [
    {
     "name": "stdout",
     "output_type": "stream",
     "text": [
      "{'연락처': '010-5423-4325'}\n"
     ]
    }
   ],
   "source": [
    "# 데이터 삭제하기\n",
    "\n",
    "# 키가 '이름'인 데이터를 삭제\n",
    "del(dic3['이름'])\n",
    "print(dic3)\n",
    "\n",
    "# 딕셔너리 안의 모든 데이터(key, value) 삭제\n",
    "dic3.clear()"
   ]
  },
  {
   "cell_type": "code",
   "execution_count": 122,
   "metadata": {},
   "outputs": [
    {
     "name": "stdout",
     "output_type": "stream",
     "text": [
      "['3', '2', '5', '갈!!', '']\n"
     ]
    }
   ],
   "source": [
    "# 리스트 문제1\n",
    "# 빈 리스트를 생성하고 키보드로 데이터 5개를 입력받아 입력받은 데이터를 리스트에 추가\n",
    "# 그리고 리스트의 모든 내용을 출력\n",
    "\n",
    "test_list1 = []\n",
    "\n",
    "for i in range(5) :\n",
    "    value = input(f'{i+1}번째 값 : ')\n",
    "    test_list1.append(value)\n",
    "print(test_list1)"
   ]
  },
  {
   "cell_type": "code",
   "execution_count": 130,
   "metadata": {},
   "outputs": [
    {
     "name": "stdout",
     "output_type": "stream",
     "text": [
      "삭제 결과 : [2, 3, 4, 5]\n"
     ]
    }
   ],
   "source": [
    "# 리스트 문제2\n",
    "# 아래 제시된 리스트에서 사용자가 입력한 값을 찾아 삭제하는 코드 작성\n",
    "test_list2 = [1, 2, 3, 4, 5]\n",
    "\n",
    "searchData = int(input('삭제하고 싶은 값을 적으세요'))\n",
    "# 위에서 입력한 데이터가 리스트 안에 존재하는지 여부는 알아야 함 (유효성 검사)\n",
    "if searchData in test_list2 :\n",
    "    test_list2.remove(searchData)\n",
    "    print(f'삭제 결과 : {test_list2}')\n",
    "else : \n",
    "    print('삭제하려는 데이터가 존재하지 않습니다')"
   ]
  },
  {
   "cell_type": "code",
   "execution_count": 138,
   "metadata": {},
   "outputs": [
    {
     "name": "stdout",
     "output_type": "stream",
     "text": [
      "30\n",
      "10\n",
      "2\n"
     ]
    }
   ],
   "source": [
    "# 리스트 문제3\n",
    "# 1~10까지의 수 중 짝수만 리스트에 저장하고 리스트에 저장된 데이터의 합 출력\n",
    "test_list3 = []\n",
    "\n",
    "for i in range(1, 11) :\n",
    "    if i%2==0 :\n",
    "        test_list3.append(i)\n",
    "print(sum(test_list3))\n",
    "\n",
    "print(max(test_list3))\n",
    "print(min(test_list3))"
   ]
  },
  {
   "cell_type": "code",
   "execution_count": 148,
   "metadata": {},
   "outputs": [
    {
     "name": "stdout",
     "output_type": "stream",
     "text": [
      "6.0\n"
     ]
    }
   ],
   "source": [
    "# 함수 여러개 실행하면 \n",
    "# 같은 함수 명 때문에 오류가 날 수가 있음 (여기선 sum)\n",
    "print(sum(test_list3)/len(test_list3))"
   ]
  },
  {
   "cell_type": "code",
   "execution_count": 145,
   "metadata": {},
   "outputs": [
    {
     "name": "stdout",
     "output_type": "stream",
     "text": [
      "{'이름': '희동이', '나이': 3, '국어점수': 5, '영어점수': 21}\n"
     ]
    }
   ],
   "source": [
    "# 빈 dictionary 객체를 생성한 후\n",
    "# 이름, 나이, 국어점수, 영어점수를 key로 추가한다\n",
    "# 각각의 키에 대응하는 value는 키보드로 입력받아서\n",
    "# dictionary 객체에 저장하시오. 그리고 출력!\n",
    "test_dic4 = {}\n",
    "\n",
    "test_dic4 = {'이름' : None, '나이' : None, '국어점수' : None, '영어점수' : None}\n",
    "test_dic4['이름'] = input('이름을 입력해주세요 : ')\n",
    "test_dic4['나이'] = int(input('나이를 입력해주세요 : '))\n",
    "test_dic4['국어점수'] = int(input('국어점수를 입력해주세요 : '))\n",
    "test_dic4['영어점수'] = int(input('영어점수를 입력해주세요 : '))\n",
    "print(test_dic4)"
   ]
  },
  {
   "cell_type": "code",
   "execution_count": 150,
   "metadata": {},
   "outputs": [
    {
     "name": "stdout",
     "output_type": "stream",
     "text": [
      "{'이름': '희동이', '나이': 3, '국어점수': 5, '영어점수': 21, '총점': 26}\n"
     ]
    }
   ],
   "source": [
    "# 위에서 만든 딕셔너리에 '총점' 키를 생성하고 해당 키의 값으로 국어점수와 영어점수의 합을 저장\n",
    "test_dic4['총점'] = test_dic4['국어점수'] + test_dic4['영어점수']\n",
    "print(test_dic4)"
   ]
  },
  {
   "cell_type": "code",
   "execution_count": 153,
   "metadata": {},
   "outputs": [],
   "source": [
    "class_room_data = {\n",
    "    'stu_no' : [1, 2, 3, 4, 5],\n",
    "    'stu_name' : ['김자바', '이자바', '박자바', '최자바', '정자바'],\n",
    "    'stu_score' : [85, 65, 70, 80, 95]\n",
    "}"
   ]
  },
  {
   "cell_type": "code",
   "execution_count": 154,
   "metadata": {},
   "outputs": [
    {
     "name": "stdout",
     "output_type": "stream",
     "text": [
      "95\n"
     ]
    }
   ],
   "source": [
    "# 최고점수 출력\n",
    "print(max(class_room_data['stu_score']))"
   ]
  },
  {
   "cell_type": "code",
   "execution_count": 181,
   "metadata": {},
   "outputs": [
    {
     "ename": "TypeError",
     "evalue": "'>=' not supported between instances of 'str' and 'int'",
     "output_type": "error",
     "traceback": [
      "\u001b[1;31m---------------------------------------------------------------------------\u001b[0m",
      "\u001b[1;31mTypeError\u001b[0m                                 Traceback (most recent call last)",
      "Cell \u001b[1;32mIn[181], line 11\u001b[0m\n\u001b[0;32m      9\u001b[0m \u001b[38;5;28;01mfor\u001b[39;00m score \u001b[38;5;129;01min\u001b[39;00m class_room_data[\u001b[38;5;124m'\u001b[39m\u001b[38;5;124mstu_score\u001b[39m\u001b[38;5;124m'\u001b[39m] :\n\u001b[0;32m     10\u001b[0m     grade \u001b[38;5;241m=\u001b[39m \u001b[38;5;124m'\u001b[39m\u001b[38;5;124m'\u001b[39m\n\u001b[1;32m---> 11\u001b[0m     \u001b[38;5;28;01mif\u001b[39;00m \u001b[43mscore\u001b[49m\u001b[43m \u001b[49m\u001b[38;5;241;43m>\u001b[39;49m\u001b[38;5;241;43m=\u001b[39;49m\u001b[43m \u001b[49m\u001b[38;5;241;43m90\u001b[39;49m :\n\u001b[0;32m     12\u001b[0m         grade \u001b[38;5;241m=\u001b[39m \u001b[38;5;124m'\u001b[39m\u001b[38;5;124mA\u001b[39m\u001b[38;5;124m'\u001b[39m\n\u001b[0;32m     13\u001b[0m     \u001b[38;5;28;01melif\u001b[39;00m \u001b[38;5;241m80\u001b[39m \u001b[38;5;241m<\u001b[39m\u001b[38;5;241m=\u001b[39m score :\n",
      "\u001b[1;31mTypeError\u001b[0m: '>=' not supported between instances of 'str' and 'int'"
     ]
    }
   ],
   "source": [
    "# 위의 딕셔너리 데이터에 'stu_grade'라는 키를 추가하고 해당 키에 대한 값은 아래의 글을 참고한다\n",
    "# 90 <= 점수 : A\n",
    "# 80 <= 점수 < 90 : B\n",
    "# 점수 < 80 : C\n",
    "class_room_data['stu_grade'] = []\n",
    "\n",
    "# stu_score와 stu_grade 사용\n",
    "# stu_score값이 5개이므로 stu_grade도 5번 리스트 반복\n",
    "for score in class_room_data['stu_score'] :\n",
    "    grade = ''\n",
    "    if 90 <= score :\n",
    "        grade = 'A'\n",
    "    elif 80 <= score :\n",
    "        grade = 'B'\n",
    "    else :\n",
    "        grade = 'C'\n",
    "    class_room_data['stu_grade'].append(grade)\n",
    "print(class_room_data)"
   ]
  }
 ],
 "metadata": {
  "kernelspec": {
   "display_name": "Python 3",
   "language": "python",
   "name": "python3"
  },
  "language_info": {
   "codemirror_mode": {
    "name": "ipython",
    "version": 3
   },
   "file_extension": ".py",
   "mimetype": "text/x-python",
   "name": "python",
   "nbconvert_exporter": "python",
   "pygments_lexer": "ipython3",
   "version": "3.12.2"
  }
 },
 "nbformat": 4,
 "nbformat_minor": 2
}
